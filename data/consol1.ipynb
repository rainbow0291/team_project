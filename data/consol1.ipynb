{
 "cells": [
  {
   "cell_type": "code",
   "id": "initial_id",
   "metadata": {
    "collapsed": true,
    "ExecuteTime": {
     "end_time": "2025-04-28T07:40:01.836142Z",
     "start_time": "2025-04-28T07:40:01.491142Z"
    }
   },
   "source": [
    "import csv\n",
    "import pymysql\n",
    "\n",
    "# DB 연결\n",
    "conn = pymysql.connect(\n",
    "    host='localhost',\n",
    "    user='skn14',\n",
    "    password='skn14',\n",
    "    db='accidentdb',\n",
    "    charset='utf8'\n",
    ")\n",
    "\n",
    "try:\n",
    "    with conn.cursor() as curs:\n",
    "        # 컬럼이 추가된 SQL 쿼리\n",
    "        sql = \"\"\"\n",
    "            INSERT INTO tbl_spot\n",
    "            (id, 사고다발지역시도, 사고다발지역시군구, 사고다발지역폴리곤정보, 위도, 경도)\n",
    "            VALUES (null, %s, %s, %s, %s)\n",
    "        \"\"\"\n",
    "\n",
    "        with open('accident_cleaned.csv', 'r', encoding='utf-8-sig') as f:\n",
    "            rd = csv.reader(f)\n",
    "            next(rd)  # 헤더 행을 건너뛰기 (헤더가 있는 경우)\n",
    "\n",
    "            for line in rd:\n",
    "                if len(line) >= 3:  # 데이터 유효성 검사\n",
    "                    # '사고다발지역시도시군구' 분리 (인덱스는 실제 데이터 위치에 맞게 수정 필요)\n",
    "                    location = line[0].split(' ', 1)  # 첫 번째 공백을 기준으로 분리\n",
    "                    사고다발지역시도 = location[0]\n",
    "                    사고다발지역시군구 = location[1] if len(location) > 1 else ''\n",
    "\n",
    "                    # '사고다발지역폴리곤정보' 추출 (인덱스는 실제 데이터 위치에 맞게 수정 필요)\n",
    "                    사고다발지역폴리곤정보 = line[1]\n",
    "\n",
    "                    위도 = line[2]\n",
    "\n",
    "\n",
    "                    # 기존 데이터와 함께 INSERT\n",
    "                    curs.execute(sql, (\n",
    "                        사고다발지역시도,\n",
    "                        사고다발지역시군구,\n",
    "                        사고다발지역폴리곤정보,\n",
    "                        위도,\n",
    "                        경도\n",
    "                        #line[0],  # col1 (기존 데이터)\n",
    "                        #line[1],  # col2 (기존 데이터)\n",
    "                        #line[2]  # col3 (기존 데이터)\n",
    "                    ))\n",
    "\n",
    "        conn.commit()\n",
    "finally:\n",
    "    conn.close()\n"
   ],
   "outputs": [
    {
     "ename": "NameError",
     "evalue": "name '위도' is not defined",
     "output_type": "error",
     "traceback": [
      "\u001B[31m---------------------------------------------------------------------------\u001B[39m",
      "\u001B[31mNameError\u001B[39m                                 Traceback (most recent call last)",
      "\u001B[36mCell\u001B[39m\u001B[36m \u001B[39m\u001B[32mIn[1]\u001B[39m\u001B[32m, line 41\u001B[39m\n\u001B[32m     34\u001B[39m                     사고다발지역폴리곤정보 = line[\u001B[32m1\u001B[39m]\n\u001B[32m     36\u001B[39m                     \u001B[38;5;66;03m# 기존 데이터와 함께 INSERT\u001B[39;00m\n\u001B[32m     37\u001B[39m                     curs.execute(sql, (\n\u001B[32m     38\u001B[39m                         사고다발지역시도,\n\u001B[32m     39\u001B[39m                         사고다발지역시군구,\n\u001B[32m     40\u001B[39m                         사고다발지역폴리곤정보,\n\u001B[32m---> \u001B[39m\u001B[32m41\u001B[39m                         \u001B[43m위도\u001B[49m,\n\u001B[32m     42\u001B[39m                         경도\n\u001B[32m     43\u001B[39m                         \u001B[38;5;66;03m#line[0],  # col1 (기존 데이터)\u001B[39;00m\n\u001B[32m     44\u001B[39m                         \u001B[38;5;66;03m#line[1],  # col2 (기존 데이터)\u001B[39;00m\n\u001B[32m     45\u001B[39m                         \u001B[38;5;66;03m#line[2]  # col3 (기존 데이터)\u001B[39;00m\n\u001B[32m     46\u001B[39m                     ))\n\u001B[32m     48\u001B[39m         conn.commit()\n\u001B[32m     49\u001B[39m \u001B[38;5;28;01mfinally\u001B[39;00m:\n",
      "\u001B[31mNameError\u001B[39m: name '위도' is not defined"
     ]
    }
   ],
   "execution_count": 1
  },
  {
   "metadata": {},
   "cell_type": "markdown",
   "source": "",
   "id": "f9e1e7d9760b7709"
  },
  {
   "metadata": {},
   "cell_type": "code",
   "outputs": [],
   "execution_count": null,
   "source": "",
   "id": "466bc761fc6d10fd"
  }
 ],
 "metadata": {
  "kernelspec": {
   "display_name": "Python 3",
   "language": "python",
   "name": "python3"
  },
  "language_info": {
   "codemirror_mode": {
    "name": "ipython",
    "version": 2
   },
   "file_extension": ".py",
   "mimetype": "text/x-python",
   "name": "python",
   "nbconvert_exporter": "python",
   "pygments_lexer": "ipython2",
   "version": "2.7.6"
  }
 },
 "nbformat": 4,
 "nbformat_minor": 5
}
