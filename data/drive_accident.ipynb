{
 "cells": [
  {
   "cell_type": "code",
   "id": "initial_id",
   "metadata": {
    "collapsed": true,
    "ExecuteTime": {
     "end_time": "2025-04-25T14:53:55.840252Z",
     "start_time": "2025-04-25T14:53:52.092585Z"
    }
   },
   "source": "!pip install pandas",
   "outputs": [
    {
     "name": "stdout",
     "output_type": "stream",
     "text": [
      "Requirement already satisfied: pandas in c:\\users\\playdata2\\miniconda3\\lib\\site-packages (2.2.3)\n",
      "Requirement already satisfied: numpy>=1.26.0 in c:\\users\\playdata2\\miniconda3\\lib\\site-packages (from pandas) (2.2.5)\n",
      "Requirement already satisfied: python-dateutil>=2.8.2 in c:\\users\\playdata2\\miniconda3\\lib\\site-packages (from pandas) (2.9.0.post0)\n",
      "Requirement already satisfied: pytz>=2020.1 in c:\\users\\playdata2\\miniconda3\\lib\\site-packages (from pandas) (2025.2)\n",
      "Requirement already satisfied: tzdata>=2022.7 in c:\\users\\playdata2\\miniconda3\\lib\\site-packages (from pandas) (2025.2)\n",
      "Requirement already satisfied: six>=1.5 in c:\\users\\playdata2\\miniconda3\\lib\\site-packages (from python-dateutil>=2.8.2->pandas) (1.17.0)\n"
     ]
    }
   ],
   "execution_count": 1
  },
  {
   "metadata": {
    "ExecuteTime": {
     "end_time": "2025-04-28T07:18:03.965413Z",
     "start_time": "2025-04-28T07:18:03.941108Z"
    }
   },
   "cell_type": "code",
   "source": [
    "import pandas as pd\n",
    "\n",
    "# cp949로 읽어서\n",
    "df = pd.read_csv('car_accident.csv', encoding='cp949')\n",
    "\n",
    "# utf-8로 저장\n",
    "df.to_csv('car_accident.csv', index=False, encoding='utf-8')"
   ],
   "id": "2a7f24437e7d4ce6",
   "outputs": [
    {
     "ename": "NameError",
     "evalue": "name 'df' is not defined",
     "output_type": "error",
     "traceback": [
      "\u001B[31m---------------------------------------------------------------------------\u001B[39m",
      "\u001B[31mNameError\u001B[39m                                 Traceback (most recent call last)",
      "\u001B[36mCell\u001B[39m\u001B[36m \u001B[39m\u001B[32mIn[3]\u001B[39m\u001B[32m, line 7\u001B[39m\n\u001B[32m      1\u001B[39m \u001B[38;5;28;01mimport\u001B[39;00m \u001B[34;01mpandas\u001B[39;00m \u001B[38;5;28;01mas\u001B[39;00m \u001B[34;01mpd\u001B[39;00m\n\u001B[32m      3\u001B[39m \u001B[38;5;66;03m# cp949로 읽어서\u001B[39;00m\n\u001B[32m      4\u001B[39m \u001B[38;5;66;03m# df = pd.read_csv('car_accident.csv', encoding='cp949')\u001B[39;00m\n\u001B[32m      5\u001B[39m \n\u001B[32m      6\u001B[39m \u001B[38;5;66;03m# utf-8로 저장\u001B[39;00m\n\u001B[32m----> \u001B[39m\u001B[32m7\u001B[39m \u001B[43mdf\u001B[49m.to_csv(\u001B[33m'\u001B[39m\u001B[33mcar_accident.csv\u001B[39m\u001B[33m'\u001B[39m, index=\u001B[38;5;28;01mFalse\u001B[39;00m, encoding=\u001B[33m'\u001B[39m\u001B[33mutf-8\u001B[39m\u001B[33m'\u001B[39m)\n",
      "\u001B[31mNameError\u001B[39m: name 'df' is not defined"
     ]
    }
   ],
   "execution_count": 3
  },
  {
   "metadata": {
    "ExecuteTime": {
     "end_time": "2025-04-26T01:22:10.772899Z",
     "start_time": "2025-04-26T01:22:10.764763Z"
    }
   },
   "cell_type": "code",
   "source": [
    "import os\n",
    "print(os.getcwd())"
   ],
   "id": "d007df7c4645c12",
   "outputs": [
    {
     "name": "stdout",
     "output_type": "stream",
     "text": [
      "C:\\Workspaces\\first_project_workspace\\first_project\n"
     ]
    }
   ],
   "execution_count": 8
  },
  {
   "metadata": {
    "ExecuteTime": {
     "end_time": "2025-04-26T01:23:44.684449Z",
     "start_time": "2025-04-26T01:23:44.610619Z"
    }
   },
   "cell_type": "code",
   "source": [
    "df = pd.read_csv('./car_accident.csv', encoding='utf-8')\n",
    "print(df.head())"
   ],
   "id": "a87794fb378e8ead",
   "outputs": [
    {
     "name": "stdout",
     "output_type": "stream",
     "text": [
      "   교통사고이력ID(사고기록 순서)         발생년월일시 주야코드 요일코드  사망자수  부상자수 발생지시도코드 발생지시도코드.1  \\\n",
      "0                  1  2012-01-01 01   야간    일     1     1      서울       은평구   \n",
      "1                  2  2012-01-01 01   야간    일     1     6      전북       정읍시   \n",
      "2                  3  2012-01-01 08   주간    일     1     1      충남       청양군   \n",
      "3                  4  2012-01-01 10   주간    일     2     2      경남       합천군   \n",
      "4                  5  2012-01-01 03   야간    일     1     1      경북       예천군   \n",
      "\n",
      "  사고유형대분류코드 사고유형중분류코드       법규위반코드  \n",
      "0      차대사람     차도통행중  안전운전 의무 불이행  \n",
      "1       차대차      정면충돌       중앙선 침범  \n",
      "2      차량단독     공작물충돌  안전운전 의무 불이행  \n",
      "3       차대차      측면충돌           과속  \n",
      "4      차량단독      도로이탈  안전운전 의무 불이행  \n"
     ]
    }
   ],
   "execution_count": 3
  },
  {
   "metadata": {
    "ExecuteTime": {
     "end_time": "2025-04-26T01:24:32.681961Z",
     "start_time": "2025-04-26T01:24:32.617918Z"
    }
   },
   "cell_type": "code",
   "source": [
    "print(df.info())      # 데이터 타입, 결측치, 컬럼 정보 등 요약\n",
    "print(df.describe())  # 수치형 데이터의 통계 요약\n",
    "print(df.head())      # 상위 5개 행 확인\n",
    "print(df.tail())      # 하위 5개 행 확인"
   ],
   "id": "3891e8ff7778bebf",
   "outputs": [
    {
     "name": "stdout",
     "output_type": "stream",
     "text": [
      "<class 'pandas.core.frame.DataFrame'>\n",
      "RangeIndex: 42602 entries, 0 to 42601\n",
      "Data columns (total 11 columns):\n",
      " #   Column             Non-Null Count  Dtype \n",
      "---  ------             --------------  ----- \n",
      " 0   교통사고이력ID(사고기록 순서)  42602 non-null  int64 \n",
      " 1   발생년월일시             42602 non-null  object\n",
      " 2   주야코드               42602 non-null  object\n",
      " 3   요일코드               42602 non-null  object\n",
      " 4   사망자수               42602 non-null  int64 \n",
      " 5   부상자수               42602 non-null  int64 \n",
      " 6   발생지시도코드            42602 non-null  object\n",
      " 7   발생지시도코드.1          42602 non-null  object\n",
      " 8   사고유형대분류코드          42602 non-null  object\n",
      " 9   사고유형중분류코드          42602 non-null  object\n",
      " 10  법규위반코드             42602 non-null  object\n",
      "dtypes: int64(3), object(8)\n",
      "memory usage: 3.6+ MB\n",
      "None\n",
      "       교통사고이력ID(사고기록 순서)          사망자수          부상자수\n",
      "count       42602.000000  42602.000000  42602.000000\n",
      "mean        21304.477677      1.037651      1.589339\n",
      "std         12302.416896      0.239500      1.966770\n",
      "min             1.000000      1.000000      1.000000\n",
      "25%         10651.250000      1.000000      1.000000\n",
      "50%         21301.500000      1.000000      1.000000\n",
      "75%         31951.750000      1.000000      2.000000\n",
      "max         42617.000000     10.000000    105.000000\n",
      "   교통사고이력ID(사고기록 순서)         발생년월일시 주야코드 요일코드  사망자수  부상자수 발생지시도코드 발생지시도코드.1  \\\n",
      "0                  1  2012-01-01 01   야간    일     1     1      서울       은평구   \n",
      "1                  2  2012-01-01 01   야간    일     1     6      전북       정읍시   \n",
      "2                  3  2012-01-01 08   주간    일     1     1      충남       청양군   \n",
      "3                  4  2012-01-01 10   주간    일     2     2      경남       합천군   \n",
      "4                  5  2012-01-01 03   야간    일     1     1      경북       예천군   \n",
      "\n",
      "  사고유형대분류코드 사고유형중분류코드       법규위반코드  \n",
      "0      차대사람     차도통행중  안전운전 의무 불이행  \n",
      "1       차대차      정면충돌       중앙선 침범  \n",
      "2      차량단독     공작물충돌  안전운전 의무 불이행  \n",
      "3       차대차      측면충돌           과속  \n",
      "4      차량단독      도로이탈  안전운전 의무 불이행  \n",
      "       교통사고이력ID(사고기록 순서)         발생년월일시 주야코드 요일코드  사망자수  부상자수 발생지시도코드  \\\n",
      "42597              42613  2022-12-07 10   주간    수     1     1      경기   \n",
      "42598              42614  2022-12-26 21   야간    월     1     2      경기   \n",
      "42599              42615  2022-12-26 20   야간    월     1     1      경기   \n",
      "42600              42616  2022-12-29 14   주간    목     1     1      경기   \n",
      "42601              42617  2022-12-18 13   주간    일     1    10      경기   \n",
      "\n",
      "      발생지시도코드.1 사고유형대분류코드 사고유형중분류코드       법규위반코드  \n",
      "42597       평택시      차대사람       횡단중  보행자 보호의무 위반  \n",
      "42598       평택시       차대차        추돌  안전운전 의무 불이행  \n",
      "42599       평택시      차량단독        전도  안전운전 의무 불이행  \n",
      "42600       평택시      차량단독        기타  안전운전 의무 불이행  \n",
      "42601       안양시       차대차        추돌     안전거리 미확보  \n"
     ]
    }
   ],
   "execution_count": 4
  },
  {
   "metadata": {
    "ExecuteTime": {
     "end_time": "2025-04-26T01:28:55.626378Z",
     "start_time": "2025-04-26T01:28:55.602183Z"
    }
   },
   "cell_type": "code",
   "source": "df.isnull().sum()",
   "id": "f7ad180f27826a60",
   "outputs": [
    {
     "data": {
      "text/plain": [
       "교통사고이력ID(사고기록 순서)    0\n",
       "발생년월일시               0\n",
       "주야코드                 0\n",
       "요일코드                 0\n",
       "사망자수                 0\n",
       "부상자수                 0\n",
       "발생지시도코드              0\n",
       "발생지시도코드.1            0\n",
       "사고유형대분류코드            0\n",
       "사고유형중분류코드            0\n",
       "법규위반코드               0\n",
       "dtype: int64"
      ]
     },
     "execution_count": 5,
     "metadata": {},
     "output_type": "execute_result"
    }
   ],
   "execution_count": 5
  },
  {
   "metadata": {
    "ExecuteTime": {
     "end_time": "2025-04-26T01:31:39.963343Z",
     "start_time": "2025-04-26T01:31:39.931732Z"
    }
   },
   "cell_type": "code",
   "source": "df['발생년월일시'] = pd.to_datetime(df['발생년월일시'])",
   "id": "ad0768880032a661",
   "outputs": [],
   "execution_count": 8
  },
  {
   "metadata": {
    "ExecuteTime": {
     "end_time": "2025-04-26T01:42:51.275965Z",
     "start_time": "2025-04-26T01:42:51.264299Z"
    }
   },
   "cell_type": "code",
   "source": [
    "df = df.rename(columns={\n",
    "    '교통사고이력ID(사고기록 순서)': 'id',\n",
    "    '발생년월일시': 'datetime',\n",
    "    '주야코드': 'daynight',\n",
    "    '요일코드': 'weekday',\n",
    "    '사망자수': 'dead',\n",
    "    '부상자수': 'hurt',\n",
    "    '발생지시도코드': 'region1',\n",
    "    '발생지시도코드.1': 'region2',\n",
    "    '사고유형대분류코드': 'type_main',\n",
    "    '사고유형중분류코드': 'type_sub',\n",
    "    '법규위반코드': 'law'\n",
    "})\n"
   ],
   "id": "9912d268f516f6f6",
   "outputs": [],
   "execution_count": 9
  },
  {
   "metadata": {
    "ExecuteTime": {
     "end_time": "2025-04-26T01:44:19.046691Z",
     "start_time": "2025-04-26T01:44:19.020906Z"
    }
   },
   "cell_type": "code",
   "source": "print(df.info())",
   "id": "bae612520efe1a4b",
   "outputs": [
    {
     "name": "stdout",
     "output_type": "stream",
     "text": [
      "<class 'pandas.core.frame.DataFrame'>\n",
      "RangeIndex: 42602 entries, 0 to 42601\n",
      "Data columns (total 11 columns):\n",
      " #   Column     Non-Null Count  Dtype         \n",
      "---  ------     --------------  -----         \n",
      " 0   id         42602 non-null  int64         \n",
      " 1   datetime   42602 non-null  datetime64[ns]\n",
      " 2   daynight   42602 non-null  object        \n",
      " 3   weekday    42602 non-null  object        \n",
      " 4   dead       42602 non-null  int64         \n",
      " 5   hurt       42602 non-null  int64         \n",
      " 6   region1    42602 non-null  object        \n",
      " 7   region2    42602 non-null  object        \n",
      " 8   type_main  42602 non-null  object        \n",
      " 9   type_sub   42602 non-null  object        \n",
      " 10  law        42602 non-null  object        \n",
      "dtypes: datetime64[ns](1), int64(3), object(7)\n",
      "memory usage: 3.6+ MB\n",
      "None\n"
     ]
    }
   ],
   "execution_count": 10
  },
  {
   "metadata": {
    "ExecuteTime": {
     "end_time": "2025-04-26T01:46:52.015982Z",
     "start_time": "2025-04-26T01:46:52.010892Z"
    }
   },
   "cell_type": "code",
   "source": "print(df.columns)",
   "id": "91792e1031a1ee7a",
   "outputs": [
    {
     "name": "stdout",
     "output_type": "stream",
     "text": [
      "Index(['id', 'datetime', 'daynight', 'weekday', 'dead', 'hurt', 'region1',\n",
      "       'region2', 'type_main', 'type_sub', 'law'],\n",
      "      dtype='object')\n"
     ]
    }
   ],
   "execution_count": 13
  },
  {
   "metadata": {
    "ExecuteTime": {
     "end_time": "2025-04-26T01:59:20.091775Z",
     "start_time": "2025-04-26T01:59:20.078761Z"
    }
   },
   "cell_type": "code",
   "source": [
    "max_year = df['datetime'].dt.year.max()\n",
    "print(max_year)\n",
    "recent_year = list(range(max_year, max_year-5, -1))\n",
    "print(recent_year)\n"
   ],
   "id": "db6e4f1df7624174",
   "outputs": [
    {
     "name": "stdout",
     "output_type": "stream",
     "text": [
      "2022\n",
      "[2022, 2021, 2020, 2019, 2018]\n"
     ]
    }
   ],
   "execution_count": 17
  },
  {
   "metadata": {},
   "cell_type": "code",
   "outputs": [],
   "execution_count": null,
   "source": [
    "# import pandas as pd\n",
    "#\n",
    "# # 기존 파일 읽기\n",
    "# df = pd.read_csv('data.csv')\n",
    "#\n",
    "# # 전처리\n",
    "# df = df.dropna()  # 예를 들어 결측치 제거\n",
    "#\n",
    "# # 전처리한 결과를 저장\n",
    "# df.to_csv('data_cleaned.csv', index=False, encoding='utf-8-sig')"
   ],
   "id": "ffcf2a5c94ac3b3c"
  },
  {
   "metadata": {},
   "cell_type": "markdown",
   "source": "### 전처리한 데이터를 새로운 파일로 저장",
   "id": "d2d44f706ae2a9c8"
  },
  {
   "metadata": {
    "ExecuteTime": {
     "end_time": "2025-04-26T02:53:15.708902Z",
     "start_time": "2025-04-26T02:53:15.510765Z"
    }
   },
   "cell_type": "code",
   "source": [
    "import pandas as pd\n",
    "\n",
    "# # 1. 파일 불러오기\n",
    "# df = pd.read_csv('car_accident.csv', encoding='utf-8')\n",
    "#\n",
    "# # 2. 데이터 전처리\n",
    "# # 예시: 결측치 있는 행 삭제\n",
    "# df = df.dropna()\n",
    "\n",
    "# 3. 전처리한 데이터를 새 파일로 저장\n",
    "df.to_csv('car_accident_cleaned.csv', index=False, encoding='utf-8-sig')\n"
   ],
   "id": "5400ff5c072ff3df",
   "outputs": [],
   "execution_count": 18
  },
  {
   "metadata": {
    "ExecuteTime": {
     "end_time": "2025-04-26T02:54:14.910996Z",
     "start_time": "2025-04-26T02:54:14.900788Z"
    }
   },
   "cell_type": "code",
   "source": "print(df.head())",
   "id": "e533821fe6aad4fa",
   "outputs": [
    {
     "name": "stdout",
     "output_type": "stream",
     "text": [
      "   id            datetime daynight weekday  dead  hurt region1 region2  \\\n",
      "0   1 2012-01-01 01:00:00       야간       일     1     1      서울     은평구   \n",
      "1   2 2012-01-01 01:00:00       야간       일     1     6      전북     정읍시   \n",
      "2   3 2012-01-01 08:00:00       주간       일     1     1      충남     청양군   \n",
      "3   4 2012-01-01 10:00:00       주간       일     2     2      경남     합천군   \n",
      "4   5 2012-01-01 03:00:00       야간       일     1     1      경북     예천군   \n",
      "\n",
      "  type_main type_sub          law  \n",
      "0      차대사람    차도통행중  안전운전 의무 불이행  \n",
      "1       차대차     정면충돌       중앙선 침범  \n",
      "2      차량단독    공작물충돌  안전운전 의무 불이행  \n",
      "3       차대차     측면충돌           과속  \n",
      "4      차량단독     도로이탈  안전운전 의무 불이행  \n"
     ]
    }
   ],
   "execution_count": 20
  },
  {
   "metadata": {},
   "cell_type": "code",
   "outputs": [],
   "execution_count": null,
   "source": "",
   "id": "d32070e30e33ad09"
  }
 ],
 "metadata": {
  "kernelspec": {
   "display_name": "Python 3",
   "language": "python",
   "name": "python3"
  },
  "language_info": {
   "codemirror_mode": {
    "name": "ipython",
    "version": 2
   },
   "file_extension": ".py",
   "mimetype": "text/x-python",
   "name": "python",
   "nbconvert_exporter": "python",
   "pygments_lexer": "ipython2",
   "version": "2.7.6"
  }
 },
 "nbformat": 4,
 "nbformat_minor": 5
}
